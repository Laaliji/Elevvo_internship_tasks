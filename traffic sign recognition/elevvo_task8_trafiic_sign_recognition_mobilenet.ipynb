{
  "nbformat": 4,
  "nbformat_minor": 0,
  "metadata": {
    "colab": {
      "provenance": [],
      "gpuType": "T4"
    },
    "kernelspec": {
      "name": "python3",
      "display_name": "Python 3"
    },
    "language_info": {
      "name": "python"
    },
    "accelerator": "GPU"
  },
  "cells": [
    {
      "cell_type": "code",
      "execution_count": 1,
      "metadata": {
        "colab": {
          "base_uri": "https://localhost:8080/"
        },
        "id": "RD1wOFe1ZB9-",
        "outputId": "9bb9ed12-5774-49d9-9306-bf16ad9bd8c4"
      },
      "outputs": [
        {
          "output_type": "stream",
          "name": "stdout",
          "text": [
            "Mounted at /content/drive\n",
            "Copying dataset from Drive to local... (~1-2 min)\n",
            "Copy complete! Now use local paths for loading.\n",
            "Meta\n",
            "Meta.csv\n",
            "Test\n",
            "Test.csv\n",
            "Train\n"
          ]
        }
      ],
      "source": [
        "# Mount Drive\n",
        "from google.colab import drive\n",
        "drive.mount('/content/drive')\n",
        "\n",
        "# Imports\n",
        "import tensorflow as tf\n",
        "from tensorflow import keras\n",
        "from tensorflow.keras import layers\n",
        "import numpy as np\n",
        "import pandas as pd\n",
        "import cv2\n",
        "import os\n",
        "from sklearn.model_selection import train_test_split\n",
        "from sklearn.metrics import confusion_matrix, classification_report\n",
        "import matplotlib.pyplot as plt\n",
        "import seaborn as sns\n",
        "import shutil\n",
        "\n",
        "\n",
        "# Source from Drive\n",
        "drive_folder = '/content/drive/MyDrive/traffic_sign_recognition_datatset'\n",
        "\n",
        "# Local destination\n",
        "local_folder = '/content/dataset'\n",
        "os.makedirs(local_folder, exist_ok=True)\n",
        "\n",
        "# Copy everything (Train/Test/Meta/CSVs)\n",
        "print(\"Copying dataset from Drive to local... (~1-2 min)\")\n",
        "shutil.copytree(drive_folder, local_folder, dirs_exist_ok=True)\n",
        "print(\"Copy complete! Now use local paths for loading.\")\n",
        "\n",
        "# Quick check\n",
        "!ls /content/dataset/ | head -5"
      ]
    },
    {
      "cell_type": "code",
      "source": [
        "# Load function\n",
        "def load_gtsrb_data(data_dir, img_size=(32, 32), use_csv=False):\n",
        "    images = []\n",
        "    labels = []\n",
        "\n",
        "    if use_csv:\n",
        "        csv_path = os.path.join(data_dir, '..', 'Test.csv')\n",
        "        df = pd.read_csv(csv_path)\n",
        "        class_names = sorted(set(df['ClassId']))\n",
        "        class_to_idx = {cls: idx for idx, cls in enumerate(class_names)}\n",
        "\n",
        "        for _, row in df.iterrows():\n",
        "            img_path = os.path.join(data_dir, row['Path'].split('/')[-1])\n",
        "            img = cv2.imread(img_path)\n",
        "            if img is not None:\n",
        "                img = cv2.cvtColor(img, cv2.COLOR_BGR2RGB)\n",
        "                img = cv2.resize(img, img_size)\n",
        "                images.append(img)\n",
        "                labels.append(class_to_idx[row['ClassId']])\n",
        "    else:\n",
        "        class_names = sorted([d for d in os.listdir(data_dir) if os.path.isdir(os.path.join(data_dir, d))])\n",
        "        class_to_idx = {cls: int(cls) for cls in class_names}\n",
        "\n",
        "        for class_id in class_names:\n",
        "            class_path = os.path.join(data_dir, class_id)\n",
        "            for img_name in os.listdir(class_path):\n",
        "                img_path = os.path.join(class_path, img_name)\n",
        "                img = cv2.imread(img_path)\n",
        "                if img is not None:\n",
        "                    img = cv2.cvtColor(img, cv2.COLOR_BGR2RGB)\n",
        "                    img = cv2.resize(img, img_size)\n",
        "                    images.append(img)\n",
        "                    labels.append(class_to_idx[class_id])\n",
        "\n",
        "    return np.array(images), np.array(labels), class_names\n",
        "\n",
        "# Updated paths: Local now\n",
        "train_dir = '/content/dataset/Train'\n",
        "test_dir = '/content/dataset/Test'\n",
        "\n",
        "# Load\n",
        "X_train, y_train, class_names = load_gtsrb_data(train_dir)\n",
        "X_test, y_test, _ = load_gtsrb_data(test_dir, use_csv=True)\n",
        "\n",
        "# Preprocess\n",
        "X_train = X_train.astype('float32') / 255.0\n",
        "X_test = X_test.astype('float32') / 255.0\n",
        "y_train_cat = keras.utils.to_categorical(y_train, 43)\n",
        "y_test_cat = keras.utils.to_categorical(y_test, 43)\n",
        "X_train, X_val, y_train_cat, y_val_cat = train_test_split(X_train, y_train_cat, test_size=0.2, random_state=42, stratify=y_train)\n",
        "\n",
        "print(f\"Loaded locally: Train {X_train.shape}, Val {X_val.shape}, Test {X_test.shape}\")"
      ],
      "metadata": {
        "id": "YGyJeUY_ZH6O",
        "colab": {
          "base_uri": "https://localhost:8080/"
        },
        "outputId": "614e68e1-482f-4f10-a891-15a6637c6a14"
      },
      "execution_count": 2,
      "outputs": [
        {
          "output_type": "stream",
          "name": "stdout",
          "text": [
            "Loaded locally: Train (31367, 32, 32, 3), Val (7842, 32, 32, 3), Test (12630, 32, 32, 3)\n"
          ]
        }
      ]
    },
    {
      "cell_type": "code",
      "source": [
        "from tensorflow.keras.applications.mobilenet_v2 import preprocess_input\n",
        "import tensorflow as tf\n",
        "\n",
        "# Subset (same)\n",
        "train_size = 10000\n",
        "X_train_small = X_train[:train_size]\n",
        "y_train_cat_small = y_train_cat[:train_size]\n",
        "X_val_small = X_val[:2000]\n",
        "y_val_cat_small = y_val_cat[:2000]\n",
        "\n",
        "# Milder aug function\n",
        "def augment_and_preprocess(image, label):\n",
        "    # Small transforms only\n",
        "    image = tf.image.rot90(image, 0)  # No random rot90—too harsh\n",
        "    image = tf.image.random_brightness(image, 0.1)\n",
        "    image = tf.image.random_contrast(image, 0.9, 1.1)\n",
        "    image = tf.image.resize_with_crop_or_pad(image, 224, 224)  # Simple pad/resize\n",
        "    image = tf.image.random_crop(image, [224, 224, 3])  # Slight crop for variation\n",
        "    image = preprocess_input(image)\n",
        "    return image, label\n",
        "\n",
        "def preprocess_only(image, label):\n",
        "    image = tf.image.resize(image, [224, 224])\n",
        "    image = preprocess_input(image)\n",
        "    return image, label\n",
        "\n",
        "# Datasets (same as before)\n",
        "batch_size = 8\n",
        "train_ds = tf.data.Dataset.from_tensor_slices((X_train_small, y_train_cat_small))\n",
        "train_ds = train_ds.map(augment_and_preprocess, num_parallel_calls=tf.data.AUTOTUNE)\n",
        "train_ds = train_ds.shuffle(1000).batch(batch_size).prefetch(tf.data.AUTOTUNE)\n",
        "\n",
        "val_ds = tf.data.Dataset.from_tensor_slices((X_val_small, y_val_cat_small))\n",
        "val_ds = val_ds.map(preprocess_only, num_parallel_calls=tf.data.AUTOTUNE)\n",
        "val_ds = val_ds.batch(batch_size).prefetch(tf.data.AUTOTUNE)\n",
        "\n",
        "test_ds = tf.data.Dataset.from_tensor_slices((X_test, y_test_cat))\n",
        "test_ds = test_ds.map(preprocess_only, num_parallel_calls=tf.data.AUTOTUNE)\n",
        "test_ds = test_ds.batch(batch_size).prefetch(tf.data.AUTOTUNE)\n",
        "\n",
        "# Model with lower LR\n",
        "def build_mobilenet(input_shape=(224, 224, 3), num_classes=43):\n",
        "    base_model = keras.applications.MobileNetV2(input_shape=input_shape, include_top=False, weights='imagenet')\n",
        "    base_model.trainable = False\n",
        "    model = keras.Sequential([\n",
        "        base_model,\n",
        "        layers.GlobalAveragePooling2D(),\n",
        "        layers.Dense(128, activation='relu'),\n",
        "        layers.Dropout(0.5),\n",
        "        layers.Dense(num_classes, activation='softmax')\n",
        "    ])\n",
        "    model.compile(optimizer=keras.optimizers.Adam(learning_rate=0.0001), loss='categorical_crossentropy', metrics=['accuracy'])\n",
        "    return model\n",
        "\n",
        "model_mobilenet = build_mobilenet()\n",
        "model_mobilenet.summary()\n",
        "\n",
        "# Train\n",
        "epochs = 15\n",
        "history = model_mobilenet.fit(train_ds, epochs=epochs, validation_data=val_ds, verbose=1)\n",
        "\n",
        "# Optional: Unfreeze top layers for better performance (run after initial training)\n",
        "# base_model.trainable = True\n",
        "# for layer in base_model.layers[:-20]:  # Freeze bottom, unfreeze top 20\n",
        "#     layer.trainable = False\n",
        "# model_mobilenet.compile(optimizer=keras.optimizers.Adam(learning_rate=1e-5), loss='categorical_crossentropy', metrics=['accuracy'])\n",
        "# history_fine = model_mobilenet.fit(train_ds, epochs=5, validation_data=val_ds, verbose=1)\n",
        "\n",
        "# Evaluate\n",
        "test_loss, test_acc = model_mobilenet.evaluate(test_ds, verbose=0)\n",
        "print(f\"Test Accuracy: {test_acc:.4f}\")\n",
        "\n",
        "# Predictions & Report (same)\n",
        "y_pred = model_mobilenet.predict(test_ds, verbose=0)\n",
        "y_pred_classes = np.argmax(y_pred, axis=1)\n",
        "y_test_int = np.argmax(y_test_cat, axis=1)\n",
        "\n",
        "cm = confusion_matrix(y_test_int, y_pred_classes)\n",
        "plt.figure(figsize=(10, 8))\n",
        "sns.heatmap(cm[:10, :10], annot=True, fmt='d', cmap='Greens')\n",
        "plt.title('MobileNet CM (0-9)')\n",
        "plt.show()\n",
        "\n",
        "print(classification_report(y_test_int, y_pred_classes, target_names=[f'Class {i}' for i in range(43)]))"
      ],
      "metadata": {
        "colab": {
          "base_uri": "https://localhost:8080/",
          "height": 1000
        },
        "id": "pL6e5C1b2rMK",
        "outputId": "f3d2c398-895a-4763-8536-90822351808c"
      },
      "execution_count": 4,
      "outputs": [
        {
          "output_type": "display_data",
          "data": {
            "text/plain": [
              "\u001b[1mModel: \"sequential_1\"\u001b[0m\n"
            ],
            "text/html": [
              "<pre style=\"white-space:pre;overflow-x:auto;line-height:normal;font-family:Menlo,'DejaVu Sans Mono',consolas,'Courier New',monospace\"><span style=\"font-weight: bold\">Model: \"sequential_1\"</span>\n",
              "</pre>\n"
            ]
          },
          "metadata": {}
        },
        {
          "output_type": "display_data",
          "data": {
            "text/plain": [
              "┏━━━━━━━━━━━━━━━━━━━━━━━━━━━━━━━━━┳━━━━━━━━━━━━━━━━━━━━━━━━┳━━━━━━━━━━━━━━━┓\n",
              "┃\u001b[1m \u001b[0m\u001b[1mLayer (type)                   \u001b[0m\u001b[1m \u001b[0m┃\u001b[1m \u001b[0m\u001b[1mOutput Shape          \u001b[0m\u001b[1m \u001b[0m┃\u001b[1m \u001b[0m\u001b[1m      Param #\u001b[0m\u001b[1m \u001b[0m┃\n",
              "┡━━━━━━━━━━━━━━━━━━━━━━━━━━━━━━━━━╇━━━━━━━━━━━━━━━━━━━━━━━━╇━━━━━━━━━━━━━━━┩\n",
              "│ mobilenetv2_1.00_224            │ (\u001b[38;5;45mNone\u001b[0m, \u001b[38;5;34m7\u001b[0m, \u001b[38;5;34m7\u001b[0m, \u001b[38;5;34m1280\u001b[0m)     │     \u001b[38;5;34m2,257,984\u001b[0m │\n",
              "│ (\u001b[38;5;33mFunctional\u001b[0m)                    │                        │               │\n",
              "├─────────────────────────────────┼────────────────────────┼───────────────┤\n",
              "│ global_average_pooling2d_1      │ (\u001b[38;5;45mNone\u001b[0m, \u001b[38;5;34m1280\u001b[0m)           │             \u001b[38;5;34m0\u001b[0m │\n",
              "│ (\u001b[38;5;33mGlobalAveragePooling2D\u001b[0m)        │                        │               │\n",
              "├─────────────────────────────────┼────────────────────────┼───────────────┤\n",
              "│ dense_2 (\u001b[38;5;33mDense\u001b[0m)                 │ (\u001b[38;5;45mNone\u001b[0m, \u001b[38;5;34m128\u001b[0m)            │       \u001b[38;5;34m163,968\u001b[0m │\n",
              "├─────────────────────────────────┼────────────────────────┼───────────────┤\n",
              "│ dropout_1 (\u001b[38;5;33mDropout\u001b[0m)             │ (\u001b[38;5;45mNone\u001b[0m, \u001b[38;5;34m128\u001b[0m)            │             \u001b[38;5;34m0\u001b[0m │\n",
              "├─────────────────────────────────┼────────────────────────┼───────────────┤\n",
              "│ dense_3 (\u001b[38;5;33mDense\u001b[0m)                 │ (\u001b[38;5;45mNone\u001b[0m, \u001b[38;5;34m43\u001b[0m)             │         \u001b[38;5;34m5,547\u001b[0m │\n",
              "└─────────────────────────────────┴────────────────────────┴───────────────┘\n"
            ],
            "text/html": [
              "<pre style=\"white-space:pre;overflow-x:auto;line-height:normal;font-family:Menlo,'DejaVu Sans Mono',consolas,'Courier New',monospace\">┏━━━━━━━━━━━━━━━━━━━━━━━━━━━━━━━━━┳━━━━━━━━━━━━━━━━━━━━━━━━┳━━━━━━━━━━━━━━━┓\n",
              "┃<span style=\"font-weight: bold\"> Layer (type)                    </span>┃<span style=\"font-weight: bold\"> Output Shape           </span>┃<span style=\"font-weight: bold\">       Param # </span>┃\n",
              "┡━━━━━━━━━━━━━━━━━━━━━━━━━━━━━━━━━╇━━━━━━━━━━━━━━━━━━━━━━━━╇━━━━━━━━━━━━━━━┩\n",
              "│ mobilenetv2_1.00_224            │ (<span style=\"color: #00d7ff; text-decoration-color: #00d7ff\">None</span>, <span style=\"color: #00af00; text-decoration-color: #00af00\">7</span>, <span style=\"color: #00af00; text-decoration-color: #00af00\">7</span>, <span style=\"color: #00af00; text-decoration-color: #00af00\">1280</span>)     │     <span style=\"color: #00af00; text-decoration-color: #00af00\">2,257,984</span> │\n",
              "│ (<span style=\"color: #0087ff; text-decoration-color: #0087ff\">Functional</span>)                    │                        │               │\n",
              "├─────────────────────────────────┼────────────────────────┼───────────────┤\n",
              "│ global_average_pooling2d_1      │ (<span style=\"color: #00d7ff; text-decoration-color: #00d7ff\">None</span>, <span style=\"color: #00af00; text-decoration-color: #00af00\">1280</span>)           │             <span style=\"color: #00af00; text-decoration-color: #00af00\">0</span> │\n",
              "│ (<span style=\"color: #0087ff; text-decoration-color: #0087ff\">GlobalAveragePooling2D</span>)        │                        │               │\n",
              "├─────────────────────────────────┼────────────────────────┼───────────────┤\n",
              "│ dense_2 (<span style=\"color: #0087ff; text-decoration-color: #0087ff\">Dense</span>)                 │ (<span style=\"color: #00d7ff; text-decoration-color: #00d7ff\">None</span>, <span style=\"color: #00af00; text-decoration-color: #00af00\">128</span>)            │       <span style=\"color: #00af00; text-decoration-color: #00af00\">163,968</span> │\n",
              "├─────────────────────────────────┼────────────────────────┼───────────────┤\n",
              "│ dropout_1 (<span style=\"color: #0087ff; text-decoration-color: #0087ff\">Dropout</span>)             │ (<span style=\"color: #00d7ff; text-decoration-color: #00d7ff\">None</span>, <span style=\"color: #00af00; text-decoration-color: #00af00\">128</span>)            │             <span style=\"color: #00af00; text-decoration-color: #00af00\">0</span> │\n",
              "├─────────────────────────────────┼────────────────────────┼───────────────┤\n",
              "│ dense_3 (<span style=\"color: #0087ff; text-decoration-color: #0087ff\">Dense</span>)                 │ (<span style=\"color: #00d7ff; text-decoration-color: #00d7ff\">None</span>, <span style=\"color: #00af00; text-decoration-color: #00af00\">43</span>)             │         <span style=\"color: #00af00; text-decoration-color: #00af00\">5,547</span> │\n",
              "└─────────────────────────────────┴────────────────────────┴───────────────┘\n",
              "</pre>\n"
            ]
          },
          "metadata": {}
        },
        {
          "output_type": "display_data",
          "data": {
            "text/plain": [
              "\u001b[1m Total params: \u001b[0m\u001b[38;5;34m2,427,499\u001b[0m (9.26 MB)\n"
            ],
            "text/html": [
              "<pre style=\"white-space:pre;overflow-x:auto;line-height:normal;font-family:Menlo,'DejaVu Sans Mono',consolas,'Courier New',monospace\"><span style=\"font-weight: bold\"> Total params: </span><span style=\"color: #00af00; text-decoration-color: #00af00\">2,427,499</span> (9.26 MB)\n",
              "</pre>\n"
            ]
          },
          "metadata": {}
        },
        {
          "output_type": "display_data",
          "data": {
            "text/plain": [
              "\u001b[1m Trainable params: \u001b[0m\u001b[38;5;34m169,515\u001b[0m (662.17 KB)\n"
            ],
            "text/html": [
              "<pre style=\"white-space:pre;overflow-x:auto;line-height:normal;font-family:Menlo,'DejaVu Sans Mono',consolas,'Courier New',monospace\"><span style=\"font-weight: bold\"> Trainable params: </span><span style=\"color: #00af00; text-decoration-color: #00af00\">169,515</span> (662.17 KB)\n",
              "</pre>\n"
            ]
          },
          "metadata": {}
        },
        {
          "output_type": "display_data",
          "data": {
            "text/plain": [
              "\u001b[1m Non-trainable params: \u001b[0m\u001b[38;5;34m2,257,984\u001b[0m (8.61 MB)\n"
            ],
            "text/html": [
              "<pre style=\"white-space:pre;overflow-x:auto;line-height:normal;font-family:Menlo,'DejaVu Sans Mono',consolas,'Courier New',monospace\"><span style=\"font-weight: bold\"> Non-trainable params: </span><span style=\"color: #00af00; text-decoration-color: #00af00\">2,257,984</span> (8.61 MB)\n",
              "</pre>\n"
            ]
          },
          "metadata": {}
        },
        {
          "output_type": "stream",
          "name": "stdout",
          "text": [
            "Epoch 1/15\n",
            "\u001b[1m1250/1250\u001b[0m \u001b[32m━━━━━━━━━━━━━━━━━━━━\u001b[0m\u001b[37m\u001b[0m \u001b[1m35s\u001b[0m 20ms/step - accuracy: 0.0484 - loss: 3.7328 - val_accuracy: 0.0605 - val_loss: 3.5168\n",
            "Epoch 2/15\n",
            "\u001b[1m1250/1250\u001b[0m \u001b[32m━━━━━━━━━━━━━━━━━━━━\u001b[0m\u001b[37m\u001b[0m \u001b[1m20s\u001b[0m 15ms/step - accuracy: 0.0498 - loss: 3.5767 - val_accuracy: 0.0605 - val_loss: 3.4984\n",
            "Epoch 3/15\n",
            "\u001b[1m1250/1250\u001b[0m \u001b[32m━━━━━━━━━━━━━━━━━━━━\u001b[0m\u001b[37m\u001b[0m \u001b[1m20s\u001b[0m 16ms/step - accuracy: 0.0493 - loss: 3.5409 - val_accuracy: 0.0605 - val_loss: 3.4934\n",
            "Epoch 4/15\n",
            "\u001b[1m1250/1250\u001b[0m \u001b[32m━━━━━━━━━━━━━━━━━━━━\u001b[0m\u001b[37m\u001b[0m \u001b[1m20s\u001b[0m 16ms/step - accuracy: 0.0459 - loss: 3.5396 - val_accuracy: 0.0670 - val_loss: 3.4853\n",
            "Epoch 5/15\n",
            "\u001b[1m1250/1250\u001b[0m \u001b[32m━━━━━━━━━━━━━━━━━━━━\u001b[0m\u001b[37m\u001b[0m \u001b[1m20s\u001b[0m 16ms/step - accuracy: 0.0568 - loss: 3.5324 - val_accuracy: 0.0565 - val_loss: 3.4920\n",
            "Epoch 6/15\n",
            "\u001b[1m1250/1250\u001b[0m \u001b[32m━━━━━━━━━━━━━━━━━━━━\u001b[0m\u001b[37m\u001b[0m \u001b[1m20s\u001b[0m 16ms/step - accuracy: 0.0530 - loss: 3.5189 - val_accuracy: 0.0550 - val_loss: 3.4878\n",
            "Epoch 7/15\n",
            "\u001b[1m1250/1250\u001b[0m \u001b[32m━━━━━━━━━━━━━━━━━━━━\u001b[0m\u001b[37m\u001b[0m \u001b[1m21s\u001b[0m 16ms/step - accuracy: 0.0508 - loss: 3.5224 - val_accuracy: 0.0565 - val_loss: 3.4826\n",
            "Epoch 8/15\n",
            "\u001b[1m1250/1250\u001b[0m \u001b[32m━━━━━━━━━━━━━━━━━━━━\u001b[0m\u001b[37m\u001b[0m \u001b[1m22s\u001b[0m 17ms/step - accuracy: 0.0496 - loss: 3.5290 - val_accuracy: 0.0780 - val_loss: 3.4895\n",
            "Epoch 9/15\n",
            "\u001b[1m1250/1250\u001b[0m \u001b[32m━━━━━━━━━━━━━━━━━━━━\u001b[0m\u001b[37m\u001b[0m \u001b[1m19s\u001b[0m 15ms/step - accuracy: 0.0583 - loss: 3.5117 - val_accuracy: 0.0565 - val_loss: 3.4841\n",
            "Epoch 10/15\n",
            "\u001b[1m1250/1250\u001b[0m \u001b[32m━━━━━━━━━━━━━━━━━━━━\u001b[0m\u001b[37m\u001b[0m \u001b[1m22s\u001b[0m 17ms/step - accuracy: 0.0535 - loss: 3.5094 - val_accuracy: 0.0730 - val_loss: 3.4921\n",
            "Epoch 11/15\n",
            "\u001b[1m1250/1250\u001b[0m \u001b[32m━━━━━━━━━━━━━━━━━━━━\u001b[0m\u001b[37m\u001b[0m \u001b[1m19s\u001b[0m 15ms/step - accuracy: 0.0560 - loss: 3.5022 - val_accuracy: 0.0530 - val_loss: 3.4840\n",
            "Epoch 12/15\n",
            "\u001b[1m1250/1250\u001b[0m \u001b[32m━━━━━━━━━━━━━━━━━━━━\u001b[0m\u001b[37m\u001b[0m \u001b[1m22s\u001b[0m 16ms/step - accuracy: 0.0585 - loss: 3.4977 - val_accuracy: 0.0605 - val_loss: 3.4825\n",
            "Epoch 13/15\n",
            "\u001b[1m1250/1250\u001b[0m \u001b[32m━━━━━━━━━━━━━━━━━━━━\u001b[0m\u001b[37m\u001b[0m \u001b[1m19s\u001b[0m 15ms/step - accuracy: 0.0557 - loss: 3.4970 - val_accuracy: 0.0555 - val_loss: 3.4829\n",
            "Epoch 14/15\n",
            "\u001b[1m1250/1250\u001b[0m \u001b[32m━━━━━━━━━━━━━━━━━━━━\u001b[0m\u001b[37m\u001b[0m \u001b[1m20s\u001b[0m 16ms/step - accuracy: 0.0565 - loss: 3.4973 - val_accuracy: 0.0575 - val_loss: 3.4805\n",
            "Epoch 15/15\n",
            "\u001b[1m1250/1250\u001b[0m \u001b[32m━━━━━━━━━━━━━━━━━━━━\u001b[0m\u001b[37m\u001b[0m \u001b[1m20s\u001b[0m 15ms/step - accuracy: 0.0614 - loss: 3.4904 - val_accuracy: 0.0570 - val_loss: 3.4800\n",
            "Test Accuracy: 0.0590\n"
          ]
        },
        {
          "output_type": "display_data",
          "data": {
            "text/plain": [
              "<Figure size 1000x800 with 2 Axes>"
            ],
            "image/png": "[encoded data removed]"
          },
          "metadata": {}
        },
        {
          "output_type": "stream",
          "name": "stdout",
          "text": [
            "              precision    recall  f1-score   support\n",
            "\n",
            "     Class 0       0.00      0.00      0.00        60\n",
            "     Class 1       0.00      0.00      0.00       720\n",
            "     Class 2       0.06      0.99      0.11       750\n",
            "     Class 3       0.00      0.00      0.00       450\n",
            "     Class 4       0.00      0.00      0.00       660\n",
            "     Class 5       0.00      0.00      0.00       630\n",
            "     Class 6       0.00      0.00      0.00       150\n",
            "     Class 7       0.00      0.00      0.00       450\n",
            "     Class 8       0.00      0.00      0.00       450\n",
            "     Class 9       0.00      0.00      0.00       480\n",
            "    Class 10       0.00      0.00      0.00       660\n",
            "    Class 11       0.00      0.00      0.00       420\n",
            "    Class 12       0.00      0.00      0.00       690\n",
            "    Class 13       0.00      0.00      0.00       720\n",
            "    Class 14       0.00      0.00      0.00       270\n",
            "    Class 15       0.00      0.00      0.00       210\n",
            "    Class 16       0.00      0.00      0.00       150\n",
            "    Class 17       0.00      0.00      0.00       360\n",
            "    Class 18       0.00      0.00      0.00       390\n",
            "    Class 19       0.00      0.00      0.00        60\n",
            "    Class 20       0.00      0.00      0.00        90\n",
            "    Class 21       0.00      0.00      0.00        90\n",
            "    Class 22       0.00      0.00      0.00       120\n",
            "    Class 23       0.00      0.00      0.00       150\n",
            "    Class 24       0.00      0.00      0.00        90\n",
            "    Class 25       0.00      0.00      0.00       480\n",
            "    Class 26       0.00      0.00      0.00       180\n",
            "    Class 27       0.00      0.00      0.00        60\n",
            "    Class 28       0.00      0.00      0.00       150\n",
            "    Class 29       0.00      0.00      0.00        90\n",
            "    Class 30       0.00      0.00      0.00       150\n",
            "    Class 31       0.00      0.00      0.00       270\n",
            "    Class 32       0.00      0.00      0.00        60\n",
            "    Class 33       0.00      0.00      0.00       210\n",
            "    Class 34       0.00      0.00      0.00       120\n",
            "    Class 35       0.00      0.00      0.00       390\n",
            "    Class 36       0.00      0.00      0.00       120\n",
            "    Class 37       0.00      0.00      0.00        60\n",
            "    Class 38       0.00      0.00      0.00       690\n",
            "    Class 39       0.00      0.00      0.00        90\n",
            "    Class 40       0.00      0.00      0.00        90\n",
            "    Class 41       0.00      0.00      0.00        60\n",
            "    Class 42       0.00      0.00      0.00        90\n",
            "\n",
            "    accuracy                           0.06     12630\n",
            "   macro avg       0.00      0.02      0.00     12630\n",
            "weighted avg       0.00      0.06      0.01     12630\n",
            "\n"
          ]
        },
        {
          "output_type": "stream",
          "name": "stderr",
          "text": [
            "/usr/local/lib/python3.12/dist-packages/sklearn/metrics/_classification.py:1565: UndefinedMetricWarning: Precision is ill-defined and being set to 0.0 in labels with no predicted samples. Use `zero_division` parameter to control this behavior.\n",
            "  _warn_prf(average, modifier, f\"{metric.capitalize()} is\", len(result))\n",
            "/usr/local/lib/python3.12/dist-packages/sklearn/metrics/_classification.py:1565: UndefinedMetricWarning: Precision is ill-defined and being set to 0.0 in labels with no predicted samples. Use `zero_division` parameter to control this behavior.\n",
            "  _warn_prf(average, modifier, f\"{metric.capitalize()} is\", len(result))\n",
            "/usr/local/lib/python3.12/dist-packages/sklearn/metrics/_classification.py:1565: UndefinedMetricWarning: Precision is ill-defined and being set to 0.0 in labels with no predicted samples. Use `zero_division` parameter to control this behavior.\n",
            "  _warn_prf(average, modifier, f\"{metric.capitalize()} is\", len(result))\n"
          ]
        }
      ]
    },
    {
      "cell_type": "markdown",
      "source": [
        "* Mode Collapse to Single Class: The model defaults to predicting almost everything as Class 2 (\"Speed limit 50km/h\"), leading to high recall (0.99) but low precision (0.06) for that class, and zero for others—explaining the 6% accuracy as ~750 correct predictions from Class 2 out of 12K tests.\n",
        "* Upscaling Artifacts: Resizing low-res 32x32 images to 224x224 introduces blur and interpolation noise, confusing ImageNet-pretrained features designed for high-res natural images, not sharp traffic symbols.\n",
        "* Frozen Base Limitations: The pre-trained MobileNetV2 backbone doesn't adapt well to traffic signs (domain shift from objects to symbols/shapes), and the shallow head (128-unit Dense) can't compensate, causing the classifier to \"give up\" and bias toward the first learned pattern.\n",
        "* Augmentation Overkill: Even mild transforms (brightness, contrast, crop) on upscaled low-res data amplify noise, making augmented samples unrecognizable and preventing diverse learning across 43 classes.\n",
        "* Subset Imbalance: The 10K train subset likely over-represents common classes like 2, exacerbating bias; full dataset might dilute it but still needs fine-tuning.\n",
        "* Training Stagnation: Loss stuck at ~3.5 and acc ~5-6% indicate no convergence—random guessing baseline is 2.3%, so it's barely learning, highlighting transfer learning's risks without fine-tuning.\n",
        "* Comparison Insight: The custom CNN (96%) succeeds because it's lightweight and trained from scratch on native 32x32 resolution, avoiding pre-trained mismatches—lesson: Tailor models to data size/domain."
      ],
      "metadata": {
        "id": "9dJWdFys74fu"
      }
    },
    {
      "cell_type": "code",
      "source": [],
      "metadata": {
        "id": "bZzJMj_w3BsG"
      },
      "execution_count": null,
      "outputs": []
    }
  ]
}